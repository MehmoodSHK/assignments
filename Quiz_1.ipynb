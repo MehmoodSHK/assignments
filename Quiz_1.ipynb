{
  "nbformat": 4,
  "nbformat_minor": 0,
  "metadata": {
    "colab": {
      "provenance": [],
      "authorship_tag": "ABX9TyPpGjN8dNQP8cr0XYE6q783",
      "include_colab_link": true
    },
    "kernelspec": {
      "name": "python3",
      "display_name": "Python 3"
    },
    "language_info": {
      "name": "python"
    }
  },
  "cells": [
    {
      "cell_type": "markdown",
      "metadata": {
        "id": "view-in-github",
        "colab_type": "text"
      },
      "source": [
        "<a href=\"https://colab.research.google.com/github/MehmoodSHK/assignments/blob/main/Quiz_1.ipynb\" target=\"_parent\"><img src=\"https://colab.research.google.com/assets/colab-badge.svg\" alt=\"Open In Colab\"/></a>"
      ]
    },
    {
      "cell_type": "code",
      "source": [
        "\n",
        "\n",
        "\n",
        "square_roots_of_evens = [(lambda x: round(x ** 0.5, 2))(x) for x in range(2, 11, 2)]\n",
        "\n",
        "# Print the square roots of even numbers\n",
        "\n",
        "print(\"Square roots of even numbers from 1 to 10:\")\n",
        "\n",
        "print(square_roots_of_evens)"
      ],
      "metadata": {
        "colab": {
          "base_uri": "https://localhost:8080/"
        },
        "id": "bMv3D10PHEe-",
        "outputId": "907048c6-882d-42ef-8475-5c667a28e1a9"
      },
      "execution_count": 2,
      "outputs": [
        {
          "output_type": "stream",
          "name": "stdout",
          "text": [
            "Square roots of even numbers from 1 to 10:\n",
            "[1.41, 2.0, 2.45, 2.83, 3.16]\n"
          ]
        }
      ]
    },
    {
      "cell_type": "code",
      "source": [
        "\n",
        "\n",
        "\n",
        "employees = [\n",
        "\n",
        "    (\"John\", 50000, 4.5),\n",
        "\n",
        "    (\"Alice\", 60000, 4.7),\n",
        "\n",
        "    (\"Bob\", 45000, 4.2),\n",
        "\n",
        "    (\"Emma\", 55000, 4.6),\n",
        "\n",
        "    (\"James\", 48000, 4.4)\n",
        "\n",
        "]\n",
        "\n",
        "sales_weight = 0.6\n",
        "\n",
        "satisfaction_weight = 0.4\n",
        "\n",
        "top_performers = sorted([(name, sales * sales_weight + satisfaction * satisfaction_weight) for name, sales, satisfaction in employees], key=lambda x: x[1], reverse=True)\n",
        "\n",
        "# Print the top-performing employees\n",
        "\n",
        "print(\"Top-performing employees:\")\n",
        "\n",
        "for name, score in top_performers:\n",
        "\n",
        "    print(f\"{name} - Weighted Score: {score}\")"
      ],
      "metadata": {
        "colab": {
          "base_uri": "https://localhost:8080/"
        },
        "id": "T-lPteZ0HOJY",
        "outputId": "747e661f-db97-4145-d0a4-45ee22ffeec5"
      },
      "execution_count": 3,
      "outputs": [
        {
          "output_type": "stream",
          "name": "stdout",
          "text": [
            "Top-performing employees:\n",
            "Alice - Weighted Score: 36001.88\n",
            "Emma - Weighted Score: 33001.84\n",
            "John - Weighted Score: 30001.8\n",
            "James - Weighted Score: 28801.76\n",
            "Bob - Weighted Score: 27001.68\n"
          ]
        }
      ]
    }
  ]
}