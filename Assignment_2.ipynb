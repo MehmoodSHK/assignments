{
  "cells": [
    {
      "cell_type": "markdown",
      "metadata": {
        "id": "view-in-github",
        "colab_type": "text"
      },
      "source": [
        "<a href=\"https://colab.research.google.com/github/MehmoodSHK/assignments/blob/main/Assignment_2.ipynb\" target=\"_parent\"><img src=\"https://colab.research.google.com/assets/colab-badge.svg\" alt=\"Open In Colab\"/></a>"
      ]
    },
    {
      "cell_type": "code",
      "execution_count": null,
      "metadata": {
        "colab": {
          "background_save": true,
          "base_uri": "https://localhost:8080/"
        },
        "id": "w5Tr-sdF-NTg",
        "outputId": "68f8b018-eea6-4297-f4da-9e18c659ff33"
      },
      "outputs": [
        {
          "name": "stdout",
          "output_type": "stream",
          "text": [
            "\n",
            "Options: \n",
            "1. Add items: \n",
            "2. Remove items: \n",
            "3. Display the list: \n",
            "4. Exit\n"
          ]
        }
      ],
      "source": [
        "grocery_list= []\n",
        "\n",
        "while True:\n",
        "  print(\"\\nOptions: \")\n",
        "  print(\"1. Add items: \")\n",
        "  print(\"2. Remove items: \")\n",
        "  print(\"3. Display the list: \")\n",
        "  print (\"4. Exit\")\n",
        "\n",
        "  choice=input (\"Enter your choice (1, 2, 3, 4, 5):\")\n",
        "\n",
        "  if choice == \"1\":\n",
        "\n",
        "    items_to_add=input (\"Enter the items to add: \")\n",
        "    grocery_list.append (items_to_add)\n",
        "    print (f\"{items_to_add} added to the list\")\n",
        "\n",
        "  elif choice == \"2\":\n",
        "    items_to_remove=input(\"Enter the items to remove: \")\n",
        "    if items_to_remove in grocery_list:\n",
        "      grocery_list.remove(items_to_remove)\n",
        "      print(f\"{items_to_remove} removed from the list.\")\n",
        "    else:\n",
        "        print(f\"{items_to_remove} not found in the list.\")\n",
        "\n",
        "  elif choice == \"3\":\n",
        "    print(\"\\nGrocery list:\")\n",
        "    for items in grocery_list:\n",
        "      print(f\"-{items}\")\n",
        "  elif choice == \"4\":\n",
        "    print(\"Exciting the program. Good bye!\")\n",
        "    break\n",
        "\n",
        "  else:\n",
        "    print(\"Invalid choice, Please enter the valid opetion\")"
      ]
    },
    {
      "cell_type": "code",
      "source": [
        "# Dictionary to store student grades\n",
        "student_grades = {}\n",
        "\n",
        "# Input grades for at least 5 students\n",
        "num_students = 0\n",
        "while num_students < 5:\n",
        "    student_name = input(f\"Enter name of student {num_students + 1}: \")\n",
        "    grade = float(input(f\"Enter grade of {student_name}: \"))\n",
        "    student_grades[student_name] = grade\n",
        "    num_students += 1\n",
        "\n",
        "# Calculate average grade\n",
        "total_grade = sum(student_grades.values())\n",
        "average_grade = total_grade / len(student_grades)\n",
        "\n",
        "# Print average grade\n",
        "print(f\"\\nAverage Grade: {average_grade:.2f}\")\n"
      ],
      "metadata": {
        "colab": {
          "base_uri": "https://localhost:8080/"
        },
        "id": "y8lVHmmI8lct",
        "outputId": "91a103fc-0943-4c9b-bd49-b35bed44cfd2"
      },
      "execution_count": null,
      "outputs": [
        {
          "output_type": "stream",
          "name": "stdout",
          "text": [
            "Enter name of student 1: Mhd\n",
            "Enter grade of Mhd: 3\n",
            "Enter name of student 2: Ali\n",
            "Enter grade of Ali: 31\n",
            "Enter name of student 3: Mosa\n",
            "Enter grade of Mosa: 22\n",
            "Enter name of student 4: Dk\n",
            "Enter grade of Dk: 311\n",
            "Enter name of student 5: Mood\n",
            "Enter grade of Mood: 211\n",
            "\n",
            "Average Grade: 115.60\n"
          ]
        }
      ]
    },
    {
      "cell_type": "code",
      "source": [
        "word_list = [\"apple\", \"banana\", \"apple\", \"orange\", \"banana\", \"grape\", \"apple\"]\n",
        "\n",
        "word_freq = {}\n",
        "for word in word_list:\n",
        "    if word in word_freq:\n",
        "        word_freq[word] += 1\n",
        "    else:\n",
        "        word_freq[word] = 1\n",
        "\n",
        "print(\"Word Frequency:\")\n",
        "for word, freq in word_freq.items():\n",
        "    print(f\"{word}: {freq}\")\n"
      ],
      "metadata": {
        "colab": {
          "base_uri": "https://localhost:8080/"
        },
        "id": "tfv2gJ-I8Zgs",
        "outputId": "13777b02-22d3-4b8e-d740-c938d789bd13"
      },
      "execution_count": null,
      "outputs": [
        {
          "output_type": "stream",
          "name": "stdout",
          "text": [
            "Word Frequency:\n",
            "apple: 3\n",
            "banana: 2\n",
            "orange: 1\n",
            "grape: 1\n"
          ]
        }
      ]
    },
    {
      "cell_type": "code",
      "source": [
        "password = input(\"Enter your password: \")\n",
        "\n",
        "if len(password) < 8:\n",
        "    print(\"Weak! Password should be at least 8 characters long.\")\n",
        "elif not any(char.isdigit() for char in password):\n",
        "    print(\"Weak! Password should contain at least one digit.\")\n",
        "elif not any(char.isalpha() for char in password):\n",
        "    print(\"Weak! Password should contain at least one letter.\")\n",
        "else:\n",
        "    print(\"Strong! Password meets all criteria.\")\n"
      ],
      "metadata": {
        "colab": {
          "base_uri": "https://localhost:8080/"
        },
        "id": "wxBh-knL8ExA",
        "outputId": "79ecd61c-55f9-4afd-88fb-73dc77afe134"
      },
      "execution_count": null,
      "outputs": [
        {
          "output_type": "stream",
          "name": "stdout",
          "text": [
            "Enter your password: mmmdd123\n",
            "Strong! Password meets all criteria.\n"
          ]
        }
      ]
    },
    {
      "cell_type": "code",
      "source": [
        "candidates = ['Candidate A', 'Candidate B', 'Candidate C']\n",
        "votes = {candidate: 0 for candidate in candidates}\n",
        "\n",
        "print(\"Welcome to the Annual Employee Recognition Awards Voting System!\\n\")\n",
        "\n",
        "try:\n",
        "    voter_count = int(input(\"Enter the number of voters participating: \"))\n",
        "except ValueError:\n",
        "    print(\"Invalid input! Please enter a valid number.\")\n",
        "    exit()\n",
        "\n",
        "for _ in range(voter_count):\n",
        "    print(\"\\nList of Candidates:\")\n",
        "    for index, candidate in enumerate(candidates, start=1):\n",
        "        print(f\"{index}. {candidate}\")\n",
        "\n",
        "    while True:\n",
        "        try:\n",
        "            choice = int(input(\"\\nEnter the number of your preferred candidate: \"))\n",
        "            if 1 <= choice <= len(candidates):\n",
        "                votes[candidates[choice - 1]] += 1\n",
        "                print(\"Your vote has been recorded.\")\n",
        "                break\n",
        "            else:\n",
        "                print(\"Invalid choice! Please enter a number within the valid range.\")\n",
        "        except ValueError:\n",
        "            print(\"Invalid input! Please enter a valid number.\")\n",
        "\n",
        "print(\"\\nVoting Results:\")\n",
        "for candidate, vote_count in votes.items():\n",
        "    print(f\"{candidate}: {vote_count} votes\")\n"
      ],
      "metadata": {
        "colab": {
          "base_uri": "https://localhost:8080/"
        },
        "id": "8FGewrmZ7nF3",
        "outputId": "2a342bed-c9b8-4a69-d120-dbe12dec0f3b"
      },
      "execution_count": null,
      "outputs": [
        {
          "output_type": "stream",
          "name": "stdout",
          "text": [
            "Welcome to the Annual Employee Recognition Awards Voting System!\n",
            "\n",
            "Enter the number of voters participating: 2\n",
            "\n",
            "List of Candidates:\n",
            "1. Candidate A\n",
            "2. Candidate B\n",
            "3. Candidate C\n",
            "\n",
            "Enter the number of your preferred candidate: A\n",
            "Invalid input! Please enter a valid number.\n",
            "\n",
            "Enter the number of your preferred candidate: 221\n",
            "Invalid choice! Please enter a number within the valid range.\n",
            "\n",
            "Enter the number of your preferred candidate: 1\n",
            "Your vote has been recorded.\n",
            "\n",
            "List of Candidates:\n",
            "1. Candidate A\n",
            "2. Candidate B\n",
            "3. Candidate C\n",
            "\n",
            "Enter the number of your preferred candidate: c\n",
            "Invalid input! Please enter a valid number.\n",
            "\n",
            "Enter the number of your preferred candidate: 2\n",
            "Your vote has been recorded.\n",
            "\n",
            "Voting Results:\n",
            "Candidate A: 1 votes\n",
            "Candidate B: 1 votes\n",
            "Candidate C: 0 votes\n"
          ]
        }
      ]
    }
  ],
  "metadata": {
    "colab": {
      "provenance": [],
      "authorship_tag": "ABX9TyMwwGg34auBW17wKj2Fn1C8",
      "include_colab_link": true
    },
    "kernelspec": {
      "display_name": "Python 3",
      "name": "python3"
    },
    "language_info": {
      "name": "python"
    }
  },
  "nbformat": 4,
  "nbformat_minor": 0
}