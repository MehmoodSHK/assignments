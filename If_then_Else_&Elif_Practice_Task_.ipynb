{
  "cells": [
    {
      "cell_type": "raw",
      "metadata": {
        "id": "DQDXPRez9t6v"
      },
      "source": [
        "1) A company decided to give bonus of 5% to employee if his/her year of service\n",
        "\n",
        "1.   List item\n",
        "2.   List item\n",
        "\n",
        "is more than 5 years.\n",
        "Ask user for their salary and year of service and print the net bonus amount."
      ]
    },
    {
      "cell_type": "code",
      "source": [
        "# Ask user for input\n",
        "salary= int(input(\"Enter your salary: \"))\n",
        "years_of_service= int(input(\"Enter your service years: \"))\n",
        "\n",
        "# check if the employee is eligible for bonus\n",
        "if years_of_service > 5:\n",
        "  #calculate the bonus amount (5% of the salary)\n",
        "  bonus_percentage=5\n",
        "  bonus_amount=(bonus_percentage/ 100) * salary\n",
        "\n",
        "  #print the net bonus amount\n",
        "  print(f\"Congratulation! You are eligible for a {bonus_percentage} % bonus.\")\n",
        "\n",
        "  print(f\"Your bonus amount is {bonus_amount:.2f} % bonus.\")\n",
        "\n",
        "else:\n",
        "  print(\"Sorry, You are not eligible for bonus\")\n",
        "\n"
      ],
      "metadata": {
        "colab": {
          "base_uri": "https://localhost:8080/"
        },
        "id": "uXSHoou2mii3",
        "outputId": "8d34da03-2726-4fa4-cb39-56184b29593d"
      },
      "execution_count": null,
      "outputs": [
        {
          "output_type": "stream",
          "name": "stdout",
          "text": [
            "Enter your salary: 6666\n",
            "Enter your service years: 6\n",
            "Congratulation! You are eligible for a 5 % bonus.\n",
            "Your are eligible for a 333.30 % bonus.\n"
          ]
        }
      ]
    },
    {
      "cell_type": "markdown",
      "metadata": {
        "id": "PXWmpFrW9t64"
      },
      "source": [
        "\n",
        "2) Write a program to check whether a person is eligible for voting or not. (accept age from user) if age is greater than 17 eligible otherwise not eligible"
      ]
    },
    {
      "cell_type": "code",
      "execution_count": null,
      "metadata": {
        "id": "rnVAgQD-9t68",
        "colab": {
          "base_uri": "https://localhost:8080/"
        },
        "outputId": "d092373e-3385-49cb-ec22-5552fc4efb44"
      },
      "outputs": [
        {
          "output_type": "stream",
          "name": "stdout",
          "text": [
            "Enter your age: 88\n",
            "Congratulations! You are eligible to give vote.\n"
          ]
        }
      ],
      "source": [
        "#Ask user for input\n",
        "age_of_voter=int(input(\"Enter your age: \"))\n",
        "\n",
        "#Check if the voter is eligible for vote\n",
        "if age_of_voter > 17:\n",
        "\n",
        "  #print the results\n",
        "  print (\"Congratulations! You are eligible to give vote.\")\n",
        "\n",
        "else:\n",
        "\n",
        "  print(\"Sorry, You are not eligible for voting.\")\n",
        "\n"
      ]
    },
    {
      "cell_type": "markdown",
      "metadata": {
        "id": "ZYaJDrHL9t68"
      },
      "source": [
        "\n",
        "3) Write a program to check whether a number entered by user is even or odd."
      ]
    },
    {
      "cell_type": "code",
      "execution_count": null,
      "metadata": {
        "id": "fBZV9GV19t69",
        "colab": {
          "base_uri": "https://localhost:8080/"
        },
        "outputId": "df980312-5c17-453d-c486-91cf6cc6a853"
      },
      "outputs": [
        {
          "output_type": "stream",
          "name": "stdout",
          "text": [
            "Enter your number to check it is odd or even: 98\n",
            "The number is even.\n"
          ]
        }
      ],
      "source": [
        "#Ask user input\n",
        "number=int(input(\"Enter your number to check it is odd or even: \"))\n",
        "\n",
        "if number%2 == 0:\n",
        "  #print the results\n",
        "  print (\"The number is even.\")\n",
        "\n",
        "else:\n",
        "  print(\"The number is odd.\")\n",
        "\n"
      ]
    },
    {
      "cell_type": "markdown",
      "metadata": {
        "id": "ryX720Wg9t6-"
      },
      "source": [
        "4) Write a program to check whether a number is divisible by 7 or not.\n",
        "Show Answer"
      ]
    },
    {
      "cell_type": "code",
      "execution_count": null,
      "metadata": {
        "id": "GT8M8Viy9t6_",
        "colab": {
          "base_uri": "https://localhost:8080/"
        },
        "outputId": "3974eb32-acd0-4fa1-8b9c-c4508eaf9f7a"
      },
      "outputs": [
        {
          "output_type": "stream",
          "name": "stdout",
          "text": [
            "Enter the number: 28\n",
            "Hurra! Your number is divisible by 7\n"
          ]
        }
      ],
      "source": [
        "#Ask user input\n",
        "\n",
        "num=int(input(\"Enter the number: \"))\n",
        "divisor=7\n",
        "# check the number is divisble by 7\n",
        "if num % divisor == 0:\n",
        "  print (\"Hurra! Your number is divisible by 7\")\n",
        "\n",
        "else:\n",
        "  print(\"Sorry, Nope your number is not divisble\")"
      ]
    },
    {
      "cell_type": "raw",
      "metadata": {
        "id": "zil95Qml9t7A"
      },
      "source": [
        " Write a program to display\n",
        "\"Hello\" if a number entered by user is a multiple of five , otherwise print \"Bye\"."
      ]
    },
    {
      "cell_type": "code",
      "execution_count": null,
      "metadata": {
        "id": "EGmlZnir9t7B",
        "colab": {
          "base_uri": "https://localhost:8080/"
        },
        "outputId": "74a2d059-d4ec-4e1f-e757-9acb7dc17b10"
      },
      "outputs": [
        {
          "output_type": "stream",
          "name": "stdout",
          "text": [
            "Enter the number: 95\n",
            "Hello\n"
          ]
        }
      ],
      "source": [
        "#Ask your input\n",
        "\n",
        "number_of_input=int(input(\"Enter the number: \"))\n",
        "\n",
        "#check if the number is multiple of five\n",
        "\n",
        "if number_of_input % 5 == 0:\n",
        "  print(\"Hello\")\n",
        "\n",
        "else:\n",
        "  print(\"Bye\")"
      ]
    },
    {
      "cell_type": "raw",
      "metadata": {
        "id": "d_SkDP7R9t7C"
      },
      "source": [
        "7) Write a program to display the last digit of a number.\n"
      ]
    },
    {
      "cell_type": "code",
      "execution_count": null,
      "metadata": {
        "id": "9Kr_s4Qx9t7D",
        "colab": {
          "base_uri": "https://localhost:8080/"
        },
        "outputId": "b3714a73-5eed-45e6-e06a-ade7de0b51d2"
      },
      "outputs": [
        {
          "output_type": "stream",
          "name": "stdout",
          "text": [
            "Enter a number: 4293242\n",
            "The last digit of 4293242 is 2\n"
          ]
        }
      ],
      "source": [
        "# Ask user input\n",
        "user_input=int(input(\"Enter a number: \"))\n",
        "\n",
        "# find and display the last digit\n",
        "\n",
        "last_digit= user_input % 10\n",
        "\n",
        "# print the results\n",
        "print(f\"The last digit of {user_input} is {last_digit}\")"
      ]
    },
    {
      "cell_type": "raw",
      "metadata": {
        "id": "u4J8mDW19t7E"
      },
      "source": [
        "\n",
        "Q8 Write a program to check whether the last digit of a number( entered by user ) is\n",
        "divisible by 3 or not."
      ]
    },
    {
      "cell_type": "code",
      "execution_count": null,
      "metadata": {
        "id": "Gxt-tvko9t7F"
      },
      "outputs": [],
      "source": [
        "# Ask user input\n",
        "user_input=int(input(\"Enter a number: \"))\n",
        "divisble_by_3= 3\n",
        "\n",
        "# find and display the last digit\n",
        "\n",
        "last_digit= user_input % 10\n",
        "\n",
        "# print the results\n",
        "print(f\"The last digit of {user_input} is {last_digit}\")"
      ]
    },
    {
      "cell_type": "raw",
      "metadata": {
        "id": "8afgWAxh9t7F"
      },
      "source": [
        "9) Take values of length and breadth of a rectangle from user and print if it is square or rectangle."
      ]
    },
    {
      "cell_type": "code",
      "execution_count": 3,
      "metadata": {
        "id": "URNu7-xY9t7G",
        "colab": {
          "base_uri": "https://localhost:8080/"
        },
        "outputId": "287e3e35-878c-42a5-922e-919361f6e479"
      },
      "outputs": [
        {
          "output_type": "stream",
          "name": "stdout",
          "text": [
            "Enter the length of the rectangle: 122\n",
            "Enter the breadth of the rectangle: 312\n",
            "It is a rectangle\n"
          ]
        }
      ],
      "source": [
        "#Ask your input\n",
        "\n",
        "length= float(input(\"Enter the length of the rectangle: \"))\n",
        "\n",
        "breadth= float(input (\"Enter the breadth of the rectangle: \"))\n",
        "\n",
        "#Check if its sqaure or rectangle\n",
        "if length == breadth:\n",
        "  #print the output\n",
        "  print (\"It is square\")\n",
        "\n",
        "else:\n",
        "  print(\"It is a rectangle\")"
      ]
    },
    {
      "cell_type": "code",
      "source": [
        "# Get user input for length and breadth\n",
        "length = float(input(\"Enter the length of the rectangle: \"))\n",
        "breadth = float(input(\"Enter the breadth of the rectangle: \"))\n",
        "\n",
        "# Check if it is a square or rectangle\n",
        "if length == breadth:\n",
        "    print(\"It is a square.\")\n",
        "else:\n",
        "    print(\"It is a rectangle.\")\n"
      ],
      "metadata": {
        "colab": {
          "base_uri": "https://localhost:8080/"
        },
        "id": "rZTj3RWW58tL",
        "outputId": "664737b6-7f01-4e22-f603-9d4fa5a9c9ea"
      },
      "execution_count": 4,
      "outputs": [
        {
          "output_type": "stream",
          "name": "stdout",
          "text": [
            "Enter the length of the rectangle: 122\n",
            "Enter the breadth of the rectangle: 312\n",
            "It is a rectangle.\n"
          ]
        }
      ]
    },
    {
      "cell_type": "raw",
      "metadata": {
        "id": "16M69FFp9t7G"
      },
      "source": [
        "10) Take two int values from user and print greatest among them."
      ]
    },
    {
      "cell_type": "code",
      "execution_count": 5,
      "metadata": {
        "id": "KEmEYhJd9t7G",
        "colab": {
          "base_uri": "https://localhost:8080/"
        },
        "outputId": "ced5cdf0-66b9-42ed-f23b-4a4bf58c3964"
      },
      "outputs": [
        {
          "output_type": "stream",
          "name": "stdout",
          "text": [
            "Enter the first integer: 22\n",
            "Enter the second integer: 11\n",
            "22 is the greatest.\n"
          ]
        }
      ],
      "source": [
        "\n",
        "num1 = int(input(\"Enter the first integer: \"))\n",
        "num2 = int(input(\"Enter the second integer: \"))\n",
        "\n",
        "if num1 > num2:\n",
        "    print(f\"{num1} is the greatest.\")\n",
        "elif num2 > num1:\n",
        "    print(f\"{num2} is the greatest.\")\n",
        "else:\n",
        "    print(\"Both numbers are equal.\")"
      ]
    },
    {
      "cell_type": "raw",
      "metadata": {
        "id": "GQdYUr2J9t7H"
      },
      "source": [
        "11) A shop will give discount of 10% if the cost of purchased quantity is more than 1000.\n",
        "Ask user for quantity\n",
        "Suppose, one unit will cost 100.\n",
        "Judge and print total cost for user."
      ]
    },
    {
      "cell_type": "code",
      "execution_count": 6,
      "metadata": {
        "id": "YOy8BFH_9t7H",
        "colab": {
          "base_uri": "https://localhost:8080/"
        },
        "outputId": "77d6ec13-da48-4094-f2bd-0d3e9b134509"
      },
      "outputs": [
        {
          "output_type": "stream",
          "name": "stdout",
          "text": [
            "Enter the quantity: 33\n",
            "Total cost: 2970.0\n"
          ]
        }
      ],
      "source": [
        "# Cost per unit\n",
        "cost_per_unit = 100\n",
        "\n",
        "# Get user input for quantity\n",
        "quantity = int(input(\"Enter the quantity: \"))\n",
        "\n",
        "# Calculate total cost\n",
        "total_cost = quantity * cost_per_unit\n",
        "\n",
        "# Apply discount if total cost is more than 1000\n",
        "if total_cost > 1000:\n",
        "    discount = 0.1 * total_cost  # 10% discount\n",
        "    total_cost -= discount\n",
        "\n",
        "# Print the total cost for the user\n",
        "print(f\"Total cost: {total_cost}\")\n"
      ]
    },
    {
      "cell_type": "raw",
      "metadata": {
        "id": "qf1Ds4fD9t7I"
      },
      "source": [
        "12) A school has following rules for grading system:\n",
        "\n",
        "a. Below 25 - F\n",
        "\n",
        "b. 25 to 45 - E\n",
        "\n",
        "c. 45 to 50 - D\n",
        "\n",
        "d. 50 to 60 - C\n",
        "\n",
        "e. 60 to 80 - B\n",
        "\n",
        "f. Above 80 - A\n",
        "\n",
        "Ask user to enter marks and print the corresponding grade."
      ]
    },
    {
      "cell_type": "code",
      "execution_count": 7,
      "metadata": {
        "id": "mLDRhNMJ9t7I",
        "colab": {
          "base_uri": "https://localhost:8080/"
        },
        "outputId": "b3241b34-6545-4379-9069-2a29bcee7b46"
      },
      "outputs": [
        {
          "output_type": "stream",
          "name": "stdout",
          "text": [
            "Enter the marks: 122\n",
            "The grade for 122.0 marks is: A\n"
          ]
        }
      ],
      "source": [
        "# Get user input for marks\n",
        "marks = float(input(\"Enter the marks: \"))\n",
        "\n",
        "# Determine the grade based on the given rules\n",
        "if marks < 25:\n",
        "    grade = \"F\"\n",
        "elif 25 <= marks < 45:\n",
        "    grade = \"E\"\n",
        "elif 45 <= marks < 50:\n",
        "    grade = \"D\"\n",
        "elif 50 <= marks < 60:\n",
        "    grade = \"C\"\n",
        "elif 60 <= marks < 80:\n",
        "    grade = \"B\"\n",
        "else:\n",
        "    grade = \"A\"\n",
        "\n",
        "# Print the corresponding grade\n",
        "print(f\"The grade for {marks} marks is: {grade}\")\n"
      ]
    },
    {
      "cell_type": "raw",
      "metadata": {
        "id": "DVciaBcs9t7J"
      },
      "source": [
        "14)A student will not be allowed to sit in exam if his/her attendence is less than 75%.\n",
        "\n",
        "Take following input from user\n",
        "\n",
        "Number of classes held\n",
        "\n",
        "Number of classes attended.\n",
        "\n",
        "And print\n",
        "\n",
        "percentage of class attended\n",
        "\n",
        "Is student is allowed to sit in exam or not.\n"
      ]
    },
    {
      "cell_type": "code",
      "execution_count": 8,
      "metadata": {
        "id": "Y_x9uxs49t7J",
        "colab": {
          "base_uri": "https://localhost:8080/"
        },
        "outputId": "b291f82e-51f4-4bb6-88a6-395371d181dc"
      },
      "outputs": [
        {
          "output_type": "stream",
          "name": "stdout",
          "text": [
            "Enter the number of classes held: 12\n",
            "Enter the number of classes attended: 22\n",
            "Percentage of classes attended: 183.33333333333331%\n",
            "The student is allowed to sit in the exam.\n"
          ]
        }
      ],
      "source": [
        "# Get user input for the number of classes held and attended\n",
        "classes_held = int(input(\"Enter the number of classes held: \"))\n",
        "classes_attended = int(input(\"Enter the number of classes attended: \"))\n",
        "\n",
        "# Calculate percentage of attendance\n",
        "attendance_percentage = (classes_attended / classes_held) * 100\n",
        "\n",
        "# Determine if the student is allowed to sit in the exam\n",
        "if attendance_percentage >= 75:\n",
        "    print(f\"Percentage of classes attended: {attendance_percentage}%\")\n",
        "    print(\"The student is allowed to sit in the exam.\")\n",
        "else:\n",
        "    print(f\"Percentage of classes attended: {attendance_percentage}%\")\n",
        "    print(\"The student is not allowed to sit in the exam due to low attendance.\")\n"
      ]
    },
    {
      "cell_type": "raw",
      "metadata": {
        "id": "Xxsz1RLv9t7J"
      },
      "source": [
        "15) Modify the above question to allow student to sit if he/she has medical cause. Ask user if he/she has medical cause or not ( 'Y' or 'N' ) and print accordingly."
      ]
    },
    {
      "cell_type": "code",
      "execution_count": 9,
      "metadata": {
        "id": "I_O7D4Rk9t7J",
        "colab": {
          "base_uri": "https://localhost:8080/"
        },
        "outputId": "4bc8c51d-f9bc-4c88-a90d-b58b0296da1d"
      },
      "outputs": [
        {
          "output_type": "stream",
          "name": "stdout",
          "text": [
            "Enter the number of classes held: 33\n",
            "Enter the number of classes attended: 121\n",
            "Do you have a medical cause? (Enter 'Y' or 'N'): n\n",
            "Percentage of classes attended: 366.66666666666663%\n",
            "The student is allowed to sit in the exam.\n"
          ]
        }
      ],
      "source": [
        "\n",
        "classes_held = int(input(\"Enter the number of classes held: \"))\n",
        "classes_attended = int(input(\"Enter the number of classes attended: \"))\n",
        "\n",
        "attendance_percentage = (classes_attended / classes_held) * 100\n",
        "\n",
        "medical_cause = input(\"Do you have a medical cause? (Enter 'Y' or 'N'): \")\n",
        "\n",
        "# Determine if the student is allowed to sit in the exam\n",
        "if attendance_percentage >= 75 or medical_cause.upper() == 'Y':\n",
        "    print(f\"Percentage of classes attended: {attendance_percentage}%\")\n",
        "    print(\"The student is allowed to sit in the exam.\")\n",
        "else:\n",
        "    print(f\"Percentage of classes attended: {attendance_percentage}%\")\n",
        "    print(\"The student is not allowed to sit in the exam due to low attendance and no medical cause.\")\n"
      ]
    },
    {
      "cell_type": "raw",
      "metadata": {
        "id": "ieE8gG6r9t7K"
      },
      "source": [
        "16) Write a program to check if a year is leap year or not.\n",
        "\n",
        "If a year is divisible by 4 then it is leap year but if the year is century year like 2000, 1900, 2100 then it must be divisible by 400."
      ]
    },
    {
      "cell_type": "code",
      "execution_count": 10,
      "metadata": {
        "id": "rWEUzmSb9t7K",
        "colab": {
          "base_uri": "https://localhost:8080/"
        },
        "outputId": "8d1cee5f-dd96-4dba-d520-559847c8ee97"
      },
      "outputs": [
        {
          "output_type": "stream",
          "name": "stdout",
          "text": [
            "Enter a year: 2221\n",
            "2221 is not a leap year.\n"
          ]
        }
      ],
      "source": [
        "# Get user input for the year\n",
        "year = int(input(\"Enter a year: \"))\n",
        "\n",
        "# Check if it's a leap year or not\n",
        "if (year % 4 == 0 and year % 100 != 0) or (year % 400 == 0):\n",
        "    print(f\"{year} is a leap year.\")\n",
        "else:\n",
        "    print(f\"{year} is not a leap year.\")\n"
      ]
    },
    {
      "cell_type": "raw",
      "metadata": {
        "id": "jakltp5Z9t7L"
      },
      "source": [
        "17) Ask user to enter age, gender ( M or F ), marital status ( Y or N ) and\n",
        "then using following rules print their place of service.\n",
        "\n",
        "if employee is female, then she will work only in urban areas.\n",
        "\n",
        "if employee is a male and age is in between 20 to 40 then he may work in anywhere\n",
        "\n",
        "if employee is male and age is in between 40 t0 60 then he will work in urban areas only.\n",
        "\n",
        "And any other input of age should print \"ERROR\""
      ]
    },
    {
      "cell_type": "code",
      "execution_count": 11,
      "metadata": {
        "id": "PzpaC-4L9t7M",
        "colab": {
          "base_uri": "https://localhost:8080/"
        },
        "outputId": "299ce3a8-32fb-40c5-e80f-de11db53c27c"
      },
      "outputs": [
        {
          "output_type": "stream",
          "name": "stdout",
          "text": [
            "Enter age: 55\n",
            "Enter gender (M or F): m\n",
            "Enter marital status (Y or N): y\n",
            "He will work in urban areas only.\n"
          ]
        }
      ],
      "source": [
        "# Get user input for age, gender, and marital status\n",
        "age = int(input(\"Enter age: \"))\n",
        "gender = input(\"Enter gender (M or F): \").upper()\n",
        "marital_status = input(\"Enter marital status (Y or N): \").upper()\n",
        "\n",
        "# Determine the place of service based on the rules\n",
        "if gender == 'F':\n",
        "    print(\"She will work in urban areas.\")\n",
        "elif gender == 'M' and 20 <= age <= 40:\n",
        "    print(\"He may work anywhere.\")\n",
        "elif gender == 'M' and 40 <= age <= 60:\n",
        "    print(\"He will work in urban areas only.\")\n",
        "else:\n",
        "    print(\"ERROR\")\n"
      ]
    },
    {
      "cell_type": "code",
      "execution_count": null,
      "metadata": {
        "id": "adUezTqN9t7N"
      },
      "outputs": [],
      "source": []
    },
    {
      "cell_type": "raw",
      "metadata": {
        "id": "MZ0wrFsy9t7N"
      },
      "source": [
        "18) Write a program to calculate the electricity bill (accept number of unit from user) according to the following criteria :\n",
        "     Unit                                                     Price\n",
        "uptp 100 units                                             no charge\n",
        "Next 200 units                                              Rs 5 per unit\n",
        "After 200 units                                             Rs 10 per unit\n",
        "(For example if input unit is 350 than total bill amount is Rs.3500\n",
        "(For example if input unit is 97 than total bill amount is Rs.0\n",
        "(For example if input unit is 150 than total bill amount is Rs.750"
      ]
    },
    {
      "cell_type": "code",
      "source": [
        "# Get user input for the number of units\n",
        "units = int(input(\"Enter the number of units: \"))\n",
        "\n",
        "# Calculate electricity bill based on the criteria\n",
        "if units <= 100:\n",
        "    total_bill = 0  # No charge for up to 100 units\n",
        "elif 100 < units <= 300:\n",
        "    total_bill = (units - 100) * 5  # Rs 5 per unit for the next 200 units\n",
        "elif units > 300:\n",
        "    total_bill = (200 * 5) + (units - 300) * 10  # Rs 10 per unit for units beyond 300\n",
        "\n",
        "# Print the total bill amount\n",
        "print(f\"Total bill amount is Rs. {total_bill}\")\n"
      ],
      "metadata": {
        "colab": {
          "base_uri": "https://localhost:8080/"
        },
        "id": "gBG0hYLi9BNN",
        "outputId": "5af9f7b1-b192-4952-d6ba-286dc7385d17"
      },
      "execution_count": 12,
      "outputs": [
        {
          "output_type": "stream",
          "name": "stdout",
          "text": [
            "Enter the number of units: 44\n",
            "Total bill amount is Rs. 0\n"
          ]
        }
      ]
    },
    {
      "cell_type": "raw",
      "metadata": {
        "id": "xB2IzBL29t7O"
      },
      "source": [
        "*13*) Take input of age of 3 people by user and determine oldest and youngest among them."
      ]
    },
    {
      "cell_type": "code",
      "execution_count": 13,
      "metadata": {
        "id": "3Tur6Jna9t7O",
        "colab": {
          "base_uri": "https://localhost:8080/"
        },
        "outputId": "fa373a43-835c-48ee-d509-f9717e636ace"
      },
      "outputs": [
        {
          "output_type": "stream",
          "name": "stdout",
          "text": [
            "Enter age of person 1: 22\n",
            "Enter age of person 2: 133\n",
            "Enter age of person 3: 312\n",
            "The oldest person is 312 years old.\n",
            "The youngest person is 22 years old.\n"
          ]
        }
      ],
      "source": [
        "# Get user input for the age of three people\n",
        "age1 = int(input(\"Enter age of person 1: \"))\n",
        "age2 = int(input(\"Enter age of person 2: \"))\n",
        "age3 = int(input(\"Enter age of person 3: \"))\n",
        "\n",
        "# Determine the oldest and youngest among them\n",
        "oldest = max(age1, age2, age3)\n",
        "youngest = min(age1, age2, age3)\n",
        "\n",
        "# Print the results\n",
        "print(f\"The oldest person is {oldest} years old.\")\n",
        "print(f\"The youngest person is {youngest} years old.\")\n"
      ]
    }
  ],
  "metadata": {
    "kernelspec": {
      "display_name": "Python 3 (ipykernel)",
      "language": "python",
      "name": "python3"
    },
    "language_info": {
      "codemirror_mode": {
        "name": "ipython",
        "version": 3
      },
      "file_extension": ".py",
      "mimetype": "text/x-python",
      "name": "python",
      "nbconvert_exporter": "python",
      "pygments_lexer": "ipython3",
      "version": "3.11.5"
    },
    "colab": {
      "provenance": []
    }
  },
  "nbformat": 4,
  "nbformat_minor": 0
}